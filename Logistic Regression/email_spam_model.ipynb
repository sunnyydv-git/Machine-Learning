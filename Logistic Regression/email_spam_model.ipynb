{
 "cells": [
  {
   "cell_type": "code",
   "execution_count": 1,
   "id": "2de93c9a-58b1-4d83-b5f2-6d7d16c92dc7",
   "metadata": {},
   "outputs": [],
   "source": [
    "import streamlit as st\n",
    "import pickle\n",
    "from sklearn.feature_extraction.text import TfidfVectorizer\n",
    "from nltk.corpus import stopwords\n",
    "import string"
   ]
  },
  {
   "cell_type": "code",
   "execution_count": 2,
   "id": "63e3a1bd-e33a-48a2-8615-94b178a4903a",
   "metadata": {},
   "outputs": [],
   "source": [
    "# laod the model and vectorizer\n",
    "model= pickle.load(open('spam_model.pkl', 'rb'))\n",
    "vectorizer = pickle.load(open('tfidf_vectorizer.pkl', 'rb'))"
   ]
  },
  {
   "cell_type": "code",
   "execution_count": 3,
   "id": "2402aa8c-2ae7-4007-9ee8-89687492e941",
   "metadata": {},
   "outputs": [],
   "source": [
    "# Function to preprocess the text\n",
    "def preprocess_text(text):\n",
    "    text = text.lower()\n",
    "    text = ''.join([char for char in text if char not in string.punctuation])\n",
    "    stop_words = set(stopwords.words('english'))\n",
    "    text = ' '.join([word for word in text.split() if word not in stop_words])\n",
    "    return text"
   ]
  },
  {
   "cell_type": "code",
   "execution_count": 4,
   "id": "98a96d8a-9969-4829-926c-8ba9c8e88e63",
   "metadata": {},
   "outputs": [
    {
     "name": "stderr",
     "output_type": "stream",
     "text": [
      "2025-02-02 22:20:30.971 WARNING streamlit.runtime.scriptrunner_utils.script_run_context: Thread 'MainThread': missing ScriptRunContext! This warning can be ignored when running in bare mode.\n",
      "2025-02-02 22:20:31.951 \n",
      "  \u001b[33m\u001b[1mWarning:\u001b[0m to view this Streamlit app on a browser, run it with the following\n",
      "  command:\n",
      "\n",
      "    streamlit run C:\\Users\\sunny\\.conda\\envs\\torch_env\\lib\\site-packages\\ipykernel_launcher.py [ARGUMENTS]\n",
      "2025-02-02 22:20:31.959 Thread 'MainThread': missing ScriptRunContext! This warning can be ignored when running in bare mode.\n",
      "2025-02-02 22:20:31.959 Thread 'MainThread': missing ScriptRunContext! This warning can be ignored when running in bare mode.\n",
      "2025-02-02 22:20:31.965 Thread 'MainThread': missing ScriptRunContext! This warning can be ignored when running in bare mode.\n",
      "2025-02-02 22:20:31.967 Thread 'MainThread': missing ScriptRunContext! This warning can be ignored when running in bare mode.\n",
      "2025-02-02 22:20:31.968 Thread 'MainThread': missing ScriptRunContext! This warning can be ignored when running in bare mode.\n",
      "2025-02-02 22:20:31.968 Thread 'MainThread': missing ScriptRunContext! This warning can be ignored when running in bare mode.\n",
      "2025-02-02 22:20:31.977 Thread 'MainThread': missing ScriptRunContext! This warning can be ignored when running in bare mode.\n",
      "2025-02-02 22:20:31.982 Thread 'MainThread': missing ScriptRunContext! This warning can be ignored when running in bare mode.\n",
      "2025-02-02 22:20:31.985 Thread 'MainThread': missing ScriptRunContext! This warning can be ignored when running in bare mode.\n",
      "2025-02-02 22:20:31.985 Session state does not function when running a script without `streamlit run`\n",
      "2025-02-02 22:20:31.987 Thread 'MainThread': missing ScriptRunContext! This warning can be ignored when running in bare mode.\n",
      "2025-02-02 22:20:31.991 Thread 'MainThread': missing ScriptRunContext! This warning can be ignored when running in bare mode.\n",
      "2025-02-02 22:20:31.996 Thread 'MainThread': missing ScriptRunContext! This warning can be ignored when running in bare mode.\n",
      "2025-02-02 22:20:31.999 Thread 'MainThread': missing ScriptRunContext! This warning can be ignored when running in bare mode.\n",
      "2025-02-02 22:20:31.999 Thread 'MainThread': missing ScriptRunContext! This warning can be ignored when running in bare mode.\n",
      "2025-02-02 22:20:32.001 Thread 'MainThread': missing ScriptRunContext! This warning can be ignored when running in bare mode.\n",
      "2025-02-02 22:20:32.001 Thread 'MainThread': missing ScriptRunContext! This warning can be ignored when running in bare mode.\n"
     ]
    }
   ],
   "source": [
    "# Streamlit App\n",
    "st.title(\"Email Spam Detection\")\n",
    "st.write(\"Enter the email content to check if it is spam or not.\")\n",
    "\n",
    "email_text = st.text_area(\"Email Text\")\n",
    "\n",
    "if st.button(\"Predict\"):\n",
    "    if email_text:\n",
    "        processed_text = preprocess_text(email_text)\n",
    "        vectorized_text = vectorizer.transform([processed_text])\n",
    "        prediction = model.predict(vectorized_text)\n",
    "\n",
    "        if prediction == 1:\n",
    "            st.write(\"This email is **Spam**.\")\n",
    "        else:\n",
    "            st.write(\"This email is **Not Spam**.\")\n",
    "    else:\n",
    "        st.write(\"Please enter the email text.\")"
   ]
  },
  {
   "cell_type": "code",
   "execution_count": null,
   "id": "03090ae2-f731-4b3e-ae9f-3583bbc3c0f0",
   "metadata": {},
   "outputs": [],
   "source": []
  }
 ],
 "metadata": {
  "kernelspec": {
   "display_name": "Python 3 (ipykernel)",
   "language": "python",
   "name": "python3"
  },
  "language_info": {
   "codemirror_mode": {
    "name": "ipython",
    "version": 3
   },
   "file_extension": ".py",
   "mimetype": "text/x-python",
   "name": "python",
   "nbconvert_exporter": "python",
   "pygments_lexer": "ipython3",
   "version": "3.8.20"
  }
 },
 "nbformat": 4,
 "nbformat_minor": 5
}
