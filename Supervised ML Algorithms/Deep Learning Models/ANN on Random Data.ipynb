{
 "cells": [
  {
   "cell_type": "code",
   "execution_count": 1,
   "id": "a95328ba-1c23-4289-8c6f-a4c5b77115f8",
   "metadata": {},
   "outputs": [],
   "source": [
    "import torch\n",
    "import torch.nn as nn\n",
    "import torch.optim as optim\n",
    "import numpy as np\n",
    "import matplotlib.pyplot as plt\n",
    "from sklearn.model_selection import train_test_split\n",
    "from sklearn.datasets import make_classification\n",
    "from sklearn.preprocessing import StandardScaler"
   ]
  },
  {
   "cell_type": "code",
   "execution_count": 2,
   "id": "a41bf41f-457d-439d-a23b-bcb39661851f",
   "metadata": {},
   "outputs": [],
   "source": [
    "# Generate synthetic fraud detection data\n",
    "X, y = make_classification(n_samples=5000,n_informative=2, n_redundant=0, n_repeated=0,  n_features=20, random_state=42)\n",
    "\n",
    "# Train-Test Split\n",
    "X_train, X_test, y_train, y_test = train_test_split(X, y, test_size=0.2, random_state=42)\n",
    "\n",
    "# Normalize Features\n",
    "scaler = StandardScaler()\n",
    "X_train = scaler.fit_transform(X_train)\n",
    "X_test = scaler.transform(X_test)\n",
    "\n",
    "# Convert to PyTorch tensors\n",
    "X_train, y_train = torch.tensor(X_train, dtype=torch.float32), torch.tensor(y_train, dtype=torch.float32)\n",
    "X_test, y_test = torch.tensor(X_test, dtype=torch.float32), torch.tensor(y_test, dtype=torch.float32)\n"
   ]
  },
  {
   "cell_type": "code",
   "execution_count": 16,
   "id": "d14566cf-a584-4be8-b3c7-7c3f18c05fa1",
   "metadata": {},
   "outputs": [],
   "source": [
    "class FraudDetectionANN(nn.Module):\n",
    "    def __init__(self):\n",
    "        super(FraudDetectionANN, self).__init__()\n",
    "        self.fc1 = nn.Linear(20, 64)  # Input Layer (20 features) → Hidden Layer (64 neurons)\n",
    "        self.relu = nn.ReLU()  # Activation Function\n",
    "        self.fc2 = nn.Linear(64, 32)  # Hidden Layer (64 neurons) → Hidden Layer (32 neurons)\n",
    "        self.fc3 = nn.Linear(32, 1)  # Output Layer (Binary Classification)\n",
    "        self.sigmoid = nn.Sigmoid()  # Sigmoid Activation for Binary Output\n",
    "\n",
    "    def forward(self, x):\n",
    "        print(f\"Input Shape: {x.shape}\")  # Debugging line\n",
    "        x = self.relu(self.fc1(x))\n",
    "        x = self.relu(self.fc2(x))\n",
    "        x = self.sigmoid(self.fc3(x))\n",
    "        return x\n"
   ]
  },
  {
   "cell_type": "code",
   "execution_count": 17,
   "id": "28aee7c7-c57a-4fca-a267-d70aef00b547",
   "metadata": {},
   "outputs": [
    {
     "name": "stdout",
     "output_type": "stream",
     "text": [
      "X_train shape before training: torch.Size([4000, 20])\n",
      "Input Shape: torch.Size([4000, 20])\n",
      "Epoch 1/20, Loss: 0.7023\n",
      "Input Shape: torch.Size([4000, 20])\n",
      "Epoch 2/20, Loss: 0.6998\n",
      "Input Shape: torch.Size([4000, 20])\n",
      "Epoch 3/20, Loss: 0.6975\n",
      "Input Shape: torch.Size([4000, 20])\n",
      "Epoch 4/20, Loss: 0.6952\n",
      "Input Shape: torch.Size([4000, 20])\n",
      "Epoch 5/20, Loss: 0.6929\n",
      "Input Shape: torch.Size([4000, 20])\n",
      "Epoch 6/20, Loss: 0.6907\n",
      "Input Shape: torch.Size([4000, 20])\n",
      "Epoch 7/20, Loss: 0.6885\n",
      "Input Shape: torch.Size([4000, 20])\n",
      "Epoch 8/20, Loss: 0.6862\n",
      "Input Shape: torch.Size([4000, 20])\n",
      "Epoch 9/20, Loss: 0.6840\n",
      "Input Shape: torch.Size([4000, 20])\n",
      "Epoch 10/20, Loss: 0.6818\n",
      "Input Shape: torch.Size([4000, 20])\n",
      "Epoch 11/20, Loss: 0.6795\n",
      "Input Shape: torch.Size([4000, 20])\n",
      "Epoch 12/20, Loss: 0.6771\n",
      "Input Shape: torch.Size([4000, 20])\n",
      "Epoch 13/20, Loss: 0.6747\n",
      "Input Shape: torch.Size([4000, 20])\n",
      "Epoch 14/20, Loss: 0.6722\n",
      "Input Shape: torch.Size([4000, 20])\n",
      "Epoch 15/20, Loss: 0.6697\n",
      "Input Shape: torch.Size([4000, 20])\n",
      "Epoch 16/20, Loss: 0.6670\n",
      "Input Shape: torch.Size([4000, 20])\n",
      "Epoch 17/20, Loss: 0.6643\n",
      "Input Shape: torch.Size([4000, 20])\n",
      "Epoch 18/20, Loss: 0.6614\n",
      "Input Shape: torch.Size([4000, 20])\n",
      "Epoch 19/20, Loss: 0.6585\n",
      "Input Shape: torch.Size([4000, 20])\n",
      "Epoch 20/20, Loss: 0.6554\n"
     ]
    }
   ],
   "source": [
    "print(f\"X_train shape before training: {X_train.shape}\")  # Should be (4000, 20)\n",
    "\n",
    "# Initialize Model\n",
    "model = FraudDetectionANN()\n",
    "\n",
    "# Define Loss Function & Optimizer\n",
    "criterion = nn.BCELoss()  # Binary Cross-Entropy for Classification\n",
    "optimizer = optim.Adam(model.parameters(), lr=0.001)\n",
    "\n",
    "# Training Loop\n",
    "epochs = 20\n",
    "batch_size = 32\n",
    "losses = []\n",
    "\n",
    "for epoch in range(epochs):\n",
    "    optimizer.zero_grad()\n",
    "    \n",
    "    # Forward pass\n",
    "    outputs = model(X_train).squeeze()\n",
    "    \n",
    "    # Compute loss\n",
    "    loss = criterion(outputs, y_train)\n",
    "    loss.backward()  # Backpropagation\n",
    "    optimizer.step()  # Update Weights\n",
    "    \n",
    "    losses.append(loss.item())\n",
    "    print(f\"Epoch {epoch+1}/{epochs}, Loss: {loss.item():.4f}\")\n"
   ]
  },
  {
   "cell_type": "code",
   "execution_count": 18,
   "id": "2d5997a7-7b08-4ba8-ace7-1e3c61f14d92",
   "metadata": {},
   "outputs": [
    {
     "data": {
      "image/png": "[encoded data removed]",
      "text/plain": [
       "<Figure size 640x480 with 1 Axes>"
      ]
     },
     "metadata": {},
     "output_type": "display_data"
    }
   ],
   "source": [
    "plt.plot(range(1, epochs+1), losses, marker='o')\n",
    "plt.xlabel(\"Epochs\")\n",
    "plt.ylabel(\"Loss\")\n",
    "plt.title(\"Training Loss Over Epochs\")\n",
    "plt.show()\n"
   ]
  },
  {
   "cell_type": "code",
   "execution_count": 20,
   "id": "1fe1c7b8-ba56-4b4c-8df8-a6dd40239872",
   "metadata": {},
   "outputs": [
    {
     "name": "stdout",
     "output_type": "stream",
     "text": [
      "Input Shape: torch.Size([10000, 20])\n",
      "Input Shape: torch.Size([10000, 20])\n",
      "Input Shape: torch.Size([10000, 20])\n",
      "Input Shape: torch.Size([10000, 20])\n",
      "Input Shape: torch.Size([10000, 20])\n",
      "Input Shape: torch.Size([10000, 20])\n",
      "Input Shape: torch.Size([10000, 20])\n",
      "Input Shape: torch.Size([10000, 20])\n",
      "Input Shape: torch.Size([10000, 20])\n",
      "Input Shape: torch.Size([10000, 20])\n",
      "Input Shape: torch.Size([10000, 20])\n",
      "Input Shape: torch.Size([10000, 20])\n",
      "Input Shape: torch.Size([10000, 20])\n",
      "Input Shape: torch.Size([10000, 20])\n",
      "Input Shape: torch.Size([10000, 20])\n",
      "Input Shape: torch.Size([10000, 20])\n",
      "Input Shape: torch.Size([10000, 20])\n",
      "Input Shape: torch.Size([10000, 20])\n",
      "Input Shape: torch.Size([10000, 20])\n",
      "Input Shape: torch.Size([10000, 20])\n",
      "Input Shape: torch.Size([10000, 20])\n"
     ]
    }
   ],
   "source": [
    "import matplotlib.animation as animation\n",
    "from matplotlib.colors import ListedColormap\n",
    "\n",
    "def plot_decision_boundary(X, y, model, ax):\n",
    "    x_min, x_max = X[:, 0].min() - 1, X[:, 0].max() + 1\n",
    "    y_min, y_max = X[:, 1].min() - 1, X[:, 1].max() + 1\n",
    "    xx, yy = np.meshgrid(np.linspace(x_min, x_max, 100),\n",
    "                         np.linspace(y_min, y_max, 100))\n",
    "\n",
    "    # Select only the first two features\n",
    "    X_plot = torch.tensor(np.c_[xx.ravel(), yy.ravel()], dtype=torch.float32)\n",
    "\n",
    "    # Fix input shape by adding dummy features\n",
    "    X_fixed = torch.zeros((X_plot.shape[0], 20))  # Create a (10000, 20) tensor\n",
    "    X_fixed[:, :2] = X_plot  # Fill only the first two features\n",
    "\n",
    "    with torch.no_grad():\n",
    "        Z = model(X_fixed)  # Now it has the correct shape (10000, 20)\n",
    "        Z = Z.reshape(xx.shape)\n",
    "\n",
    "    ax.contourf(xx, yy, Z, alpha=0.3)\n",
    "    ax.scatter(X[:, 0], X[:, 1], c=y, edgecolors='k')\n",
    "\n",
    "\n",
    "\n",
    "def update(epoch):\n",
    "    ax.clear()\n",
    "    plot_decision_boundary(X_train.numpy(), y_train.numpy(), model, ax)\n",
    "    ax.set_title(f\"Epoch {epoch}\")\n",
    "\n",
    "ani = animation.FuncAnimation(fig, update, frames=20, repeat=False)\n",
    "ani.save(\"ann-model.gif\", writer='pillow', fps = 10)\n",
    "plt.show()\n"
   ]
  },
  {
   "cell_type": "code",
   "execution_count": null,
   "id": "ec5d1e45-2ac3-4e4d-a3a3-162ff915f21c",
   "metadata": {},
   "outputs": [],
   "source": [
    "print(X_train.shape)"
   ]
  },
  {
   "cell_type": "code",
   "execution_count": null,
   "id": "2d211189-a936-4939-a474-002b2f3849c7",
   "metadata": {},
   "outputs": [],
   "source": []
  }
 ],
 "metadata": {
  "kernelspec": {
   "display_name": "Python 3 (ipykernel)",
   "language": "python",
   "name": "python3"
  },
  "language_info": {
   "codemirror_mode": {
    "name": "ipython",
    "version": 3
   },
   "file_extension": ".py",
   "mimetype": "text/x-python",
   "name": "python",
   "nbconvert_exporter": "python",
   "pygments_lexer": "ipython3",
   "version": "3.8.20"
  }
 },
 "nbformat": 4,
 "nbformat_minor": 5
}
