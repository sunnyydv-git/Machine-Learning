{
 "cells": [
  {
   "cell_type": "code",
   "execution_count": 12,
   "id": "1ee63015-2ae5-4a1f-b8a3-484e710a810e",
   "metadata": {},
   "outputs": [
    {
     "name": "stderr",
     "output_type": "stream",
     "text": [
      "[nltk_data] Downloading package punkt to\n",
      "[nltk_data]     C:\\Users\\sunny\\AppData\\Roaming\\nltk_data...\n",
      "[nltk_data]   Package punkt is already up-to-date!\n"
     ]
    },
    {
     "data": {
      "text/plain": [
       "True"
      ]
     },
     "execution_count": 12,
     "metadata": {},
     "output_type": "execute_result"
    }
   ],
   "source": [
    "import torch\n",
    "import torch.nn as nn\n",
    "import torch.optim as optim\n",
    "from torch.utils.data import Dataset, DataLoader\n",
    "import nltk\n",
    "from nltk.tokenize import word_tokenize\n",
    "import numpy as np\n",
    "import random\n",
    "import matplotlib.pyplot as plt\n",
    "import matplotlib.animation as animation\n",
    "from tqdm import tqdm\n",
    "\n",
    "# Download NLTK tokenizer\n",
    "nltk.download('punkt')\n"
   ]
  },
  {
   "cell_type": "code",
   "execution_count": 13,
   "id": "8442c21a-5c76-4646-b4f3-5fe36843bf58",
   "metadata": {},
   "outputs": [],
   "source": [
    "# Sample IMDB dataset (normally you'd load a real dataset)\n",
    "train_data = [\n",
    "    (\"This movie was amazing, I loved it!\", 1),\n",
    "    (\"I hated this movie, it was terrible.\", 0),\n",
    "    (\"Fantastic film, brilliant acting!\", 1),\n",
    "    (\"Worst movie ever, don't waste your time.\", 0),\n",
    "    (\"Great story and well directed!\", 1),\n",
    "    (\"Awful film, I regret watching it.\", 0),\n",
    "]\n",
    "\n",
    "test_data = [\n",
    "    (\"I really enjoyed this film!\", 1),\n",
    "    (\"The movie was bad and boring.\", 0),\n",
    "]\n"
   ]
  },
  {
   "cell_type": "code",
   "execution_count": 14,
   "id": "06266774-1d33-4cd7-86c6-071417835c56",
   "metadata": {},
   "outputs": [],
   "source": [
    "# Tokenization\n",
    "def tokenize(text):\n",
    "    return word_tokenize(text.lower())  # Convert to lowercase & tokenize\n",
    "\n",
    "# Build Vocabulary\n",
    "all_text = [tokenize(text) for text, _ in train_data]\n",
    "unique_words = set(word for sentence in all_text for word in sentence)\n",
    "word_to_index = {word: i+1 for i, word in enumerate(unique_words)}  # Word to index mapping\n",
    "word_to_index[\"<PAD>\"] = 0  # Padding token\n"
   ]
  },
  {
   "cell_type": "code",
   "execution_count": 15,
   "id": "2fb9a423-48d3-4f2d-b429-3fd38d61393b",
   "metadata": {},
   "outputs": [],
   "source": [
    "# Convert text to numerical tensors\n",
    "def text_to_tensor(text, max_length=10):\n",
    "    tokenized = tokenize(text)\n",
    "    indexed = [word_to_index.get(word, 0) for word in tokenized]  # Convert words to indices\n",
    "    if len(indexed) < max_length:\n",
    "        indexed += [0] * (max_length - len(indexed))  # Padding\n",
    "    return torch.tensor(indexed[:max_length], dtype=torch.long)\n"
   ]
  },
  {
   "cell_type": "code",
   "execution_count": 16,
   "id": "698b9a00-f0c6-4cfb-9dd0-048d4cf4cc4d",
   "metadata": {},
   "outputs": [],
   "source": [
    "# Convert labels to tensors\n",
    "def label_to_tensor(label):\n",
    "    return torch.tensor(label, dtype=torch.float32)\n"
   ]
  },
  {
   "cell_type": "code",
   "execution_count": 17,
   "id": "a5145eda-2408-4dd6-85a6-60aa235482a7",
   "metadata": {},
   "outputs": [],
   "source": [
    "# Custom Dataset\n",
    "class SentimentDataset(Dataset):\n",
    "    def __init__(self, data):\n",
    "        self.data = data\n",
    "        \n",
    "    def __len__(self):\n",
    "        return len(self.data)\n",
    "    \n",
    "    def __getitem__(self, idx):\n",
    "        text, label = self.data[idx]\n",
    "        return text_to_tensor(text), label_to_tensor(label)\n",
    "\n"
   ]
  },
  {
   "cell_type": "code",
   "execution_count": 18,
   "id": "37b03792-715f-464c-931d-0aa5440ac4d0",
   "metadata": {},
   "outputs": [],
   "source": [
    "# Create Dataset & DataLoader\n",
    "train_dataset = SentimentDataset(train_data)\n",
    "test_dataset = SentimentDataset(test_data)\n",
    "\n",
    "train_loader = DataLoader(train_dataset, batch_size=2, shuffle=True)\n",
    "test_loader = DataLoader(test_dataset, batch_size=2)\n"
   ]
  },
  {
   "cell_type": "code",
   "execution_count": 19,
   "id": "18eeae7c-7cb2-4163-bf37-649822400f74",
   "metadata": {},
   "outputs": [],
   "source": [
    "class RNNModel(nn.Module):\n",
    "    def __init__(self, vocab_size, embed_dim, hidden_dim, output_dim):\n",
    "        super(RNNModel, self).__init__()\n",
    "        self.embedding = nn.Embedding(vocab_size, embed_dim, padding_idx=0)  # Embedding layer\n",
    "        self.rnn = nn.RNN(embed_dim, hidden_dim, batch_first=True)  # Simple RNN layer\n",
    "        self.fc = nn.Linear(hidden_dim, output_dim)  # Fully connected layer\n",
    "        \n",
    "    def forward(self, text):\n",
    "        embedded = self.embedding(text)\n",
    "        output, hidden = self.rnn(embedded)  # RNN output and last hidden state\n",
    "        return torch.sigmoid(self.fc(hidden.squeeze(0)))  # Apply sigmoid for binary classification\n",
    "\n",
    "# Initialize Model\n",
    "vocab_size = len(word_to_index)\n",
    "embed_dim = 50\n",
    "hidden_dim = 128\n",
    "output_dim = 1\n",
    "\n",
    "model = RNNModel(vocab_size, embed_dim, hidden_dim, output_dim)\n"
   ]
  },
  {
   "cell_type": "code",
   "execution_count": 20,
   "id": "c6adecb1-9443-4e66-8da0-aaa69a9755c0",
   "metadata": {},
   "outputs": [
    {
     "name": "stderr",
     "output_type": "stream",
     "text": [
      "100%|████████████████████████████████████████████████████████████████████████████████████| 3/3 [00:00<00:00, 49.07it/s]\n"
     ]
    },
    {
     "name": "stdout",
     "output_type": "stream",
     "text": [
      "Epoch 1, Loss: 0.7039\n"
     ]
    },
    {
     "name": "stderr",
     "output_type": "stream",
     "text": [
      "100%|███████████████████████████████████████████████████████████████████████████████████| 3/3 [00:00<00:00, 166.63it/s]\n"
     ]
    },
    {
     "name": "stdout",
     "output_type": "stream",
     "text": [
      "Epoch 2, Loss: 0.5810\n"
     ]
    },
    {
     "name": "stderr",
     "output_type": "stream",
     "text": [
      "100%|███████████████████████████████████████████████████████████████████████████████████| 3/3 [00:00<00:00, 179.98it/s]\n"
     ]
    },
    {
     "name": "stdout",
     "output_type": "stream",
     "text": [
      "Epoch 3, Loss: 0.4685\n"
     ]
    },
    {
     "name": "stderr",
     "output_type": "stream",
     "text": [
      "100%|███████████████████████████████████████████████████████████████████████████████████| 3/3 [00:00<00:00, 147.17it/s]\n"
     ]
    },
    {
     "name": "stdout",
     "output_type": "stream",
     "text": [
      "Epoch 4, Loss: 0.3489\n"
     ]
    },
    {
     "name": "stderr",
     "output_type": "stream",
     "text": [
      "100%|███████████████████████████████████████████████████████████████████████████████████| 3/3 [00:00<00:00, 147.08it/s]\n"
     ]
    },
    {
     "name": "stdout",
     "output_type": "stream",
     "text": [
      "Epoch 5, Loss: 0.2436\n"
     ]
    },
    {
     "name": "stderr",
     "output_type": "stream",
     "text": [
      "100%|███████████████████████████████████████████████████████████████████████████████████| 3/3 [00:00<00:00, 142.75it/s]\n"
     ]
    },
    {
     "name": "stdout",
     "output_type": "stream",
     "text": [
      "Epoch 6, Loss: 0.1542\n"
     ]
    },
    {
     "name": "stderr",
     "output_type": "stream",
     "text": [
      "100%|███████████████████████████████████████████████████████████████████████████████████| 3/3 [00:00<00:00, 172.19it/s]\n"
     ]
    },
    {
     "name": "stdout",
     "output_type": "stream",
     "text": [
      "Epoch 7, Loss: 0.0903\n"
     ]
    },
    {
     "name": "stderr",
     "output_type": "stream",
     "text": [
      "100%|███████████████████████████████████████████████████████████████████████████████████| 3/3 [00:00<00:00, 181.94it/s]\n"
     ]
    },
    {
     "name": "stdout",
     "output_type": "stream",
     "text": [
      "Epoch 8, Loss: 0.0530\n"
     ]
    },
    {
     "name": "stderr",
     "output_type": "stream",
     "text": [
      "100%|███████████████████████████████████████████████████████████████████████████████████| 3/3 [00:00<00:00, 144.59it/s]\n"
     ]
    },
    {
     "name": "stdout",
     "output_type": "stream",
     "text": [
      "Epoch 9, Loss: 0.0298\n"
     ]
    },
    {
     "name": "stderr",
     "output_type": "stream",
     "text": [
      "100%|███████████████████████████████████████████████████████████████████████████████████| 3/3 [00:00<00:00, 138.29it/s]"
     ]
    },
    {
     "name": "stdout",
     "output_type": "stream",
     "text": [
      "Epoch 10, Loss: 0.0191\n"
     ]
    },
    {
     "name": "stderr",
     "output_type": "stream",
     "text": [
      "\n"
     ]
    }
   ],
   "source": [
    "# Loss function & optimizer\n",
    "criterion = nn.BCELoss()\n",
    "optimizer = optim.Adam(model.parameters(), lr=0.001)\n",
    "\n",
    "# Training loop\n",
    "EPOCHS = 10\n",
    "for epoch in range(EPOCHS):\n",
    "    model.train()\n",
    "    total_loss = 0\n",
    "    for text, labels in tqdm(train_loader):\n",
    "        optimizer.zero_grad()\n",
    "        outputs = model(text).squeeze()\n",
    "        loss = criterion(outputs, labels)\n",
    "        loss.backward()\n",
    "        optimizer.step()\n",
    "        total_loss += loss.item()\n",
    "    \n",
    "    print(f'Epoch {epoch+1}, Loss: {total_loss/len(train_loader):.4f}')\n"
   ]
  },
  {
   "cell_type": "code",
   "execution_count": 21,
   "id": "48353f80-d2d7-4b38-aef7-a93b281e3ea2",
   "metadata": {},
   "outputs": [
    {
     "name": "stdout",
     "output_type": "stream",
     "text": [
      "Test Accuracy: 0.5000\n"
     ]
    }
   ],
   "source": [
    "def evaluate(model, test_loader):\n",
    "    model.eval()\n",
    "    correct, total = 0, 0\n",
    "    with torch.no_grad():\n",
    "        for text, labels in test_loader:\n",
    "            outputs = model(text).squeeze()\n",
    "            predictions = (outputs > 0.5).float()\n",
    "            correct += (predictions == labels).sum().item()\n",
    "            total += labels.size(0)\n",
    "    return correct / total\n",
    "\n",
    "accuracy = evaluate(model, test_loader)\n",
    "print(f\"Test Accuracy: {accuracy:.4f}\")\n"
   ]
  },
  {
   "cell_type": "code",
   "execution_count": 22,
   "id": "301e76e1-ea3e-4299-897a-0a03e9b5fb5f",
   "metadata": {},
   "outputs": [
    {
     "name": "stdout",
     "output_type": "stream",
     "text": [
      "Positive\n",
      "Negative\n"
     ]
    }
   ],
   "source": [
    "def predict_sentiment(text):\n",
    "    model.eval()\n",
    "    with torch.no_grad():\n",
    "        text_tensor = text_to_tensor(text).unsqueeze(0)\n",
    "        output = model(text_tensor).item()\n",
    "        return \"Positive\" if output > 0.5 else \"Negative\"\n",
    "\n",
    "print(predict_sentiment(\"I absolutely loved this film!\"))\n",
    "print(predict_sentiment(\"The worst movie I have ever seen.\"))\n"
   ]
  },
  {
   "cell_type": "code",
   "execution_count": 24,
   "id": "2221bff2-6746-4294-880b-1da3d05b659e",
   "metadata": {},
   "outputs": [
    {
     "data": {
      "image/png": "[encoded data removed]",
      "text/plain": [
       "<Figure size 640x480 with 1 Axes>"
      ]
     },
     "metadata": {},
     "output_type": "display_data"
    }
   ],
   "source": [
    "import matplotlib.animation as animation\n",
    "\n",
    "# Generate random hidden states for visualization\n",
    "time_steps = 20\n",
    "hidden_states = np.random.randn(time_steps, hidden_dim)\n",
    "\n",
    "fig, ax = plt.subplots()\n",
    "line, = ax.plot(hidden_states[0], 'r')\n",
    "\n",
    "def update(num):\n",
    "    line.set_ydata(hidden_states[num])\n",
    "    return line,\n",
    "\n",
    "ani = animation.FuncAnimation(fig, update, frames=range(time_steps), interval=200)\n",
    "ani.save(\"rnn-model.gif\", writer = 'pillow', fps = 5)\n",
    "plt.show()"
   ]
  },
  {
   "cell_type": "code",
   "execution_count": null,
   "id": "bad1fab6-169e-45e6-b0b9-b71f9123570c",
   "metadata": {},
   "outputs": [],
   "source": []
  }
 ],
 "metadata": {
  "kernelspec": {
   "display_name": "Python 3 (ipykernel)",
   "language": "python",
   "name": "python3"
  },
  "language_info": {
   "codemirror_mode": {
    "name": "ipython",
    "version": 3
   },
   "file_extension": ".py",
   "mimetype": "text/x-python",
   "name": "python",
   "nbconvert_exporter": "python",
   "pygments_lexer": "ipython3",
   "version": "3.8.20"
  }
 },
 "nbformat": 4,
 "nbformat_minor": 5
}
